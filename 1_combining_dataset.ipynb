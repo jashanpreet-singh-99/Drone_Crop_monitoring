{
 "cells": [
  {
   "cell_type": "code",
   "execution_count": 1,
   "id": "c7511e9f-a59d-43b1-bee7-4f231de1b869",
   "metadata": {},
   "outputs": [],
   "source": [
    "# pip install opencv\n",
    "#!pip install scikit-image\n",
    "import os\n",
    "import cv2 as cv\n",
    "from skimage import io\n",
    "import shutil"
   ]
  },
  {
   "cell_type": "code",
   "execution_count": 2,
   "id": "8a42ad82-1d55-4627-a29a-d104e5a79e4e",
   "metadata": {},
   "outputs": [],
   "source": [
    "# Const VARS\n",
    "DB_PATH = os.path.join(os.getcwd(), 'wheat-dataset')\n",
    "\n",
    "EED_PATH = os.path.join(os.getcwd(), 'raw_dataset')\n",
    "\n",
    "C_HEALTHY   = \"healthy\"\n",
    "C_LEAF_RUST = \"leaf_rust\"\n",
    "C_STEM_RUST = \"stem_rust\"\n",
    "C_SMUT     = \"smut\"\n",
    "\n",
    "DIR_HEALTHY   = os.path.join( EED_PATH, C_HEALTHY)\n",
    "DIR_LEAF_RUST = os.path.join( EED_PATH, C_LEAF_RUST)\n",
    "DIR_STEM_RUST = os.path.join( EED_PATH, C_STEM_RUST)\n",
    "DIR_SMUT      = os.path.join( EED_PATH, C_SMUT)\n",
    "\n",
    "IMG_LABEL = { C_HEALTHY: 'HW',\n",
    "              C_LEAF_RUST: 'LR',\n",
    "              C_STEM_RUST: 'SR',\n",
    "              C_SMUT: 'SM'\n",
    "            }"
   ]
  },
  {
   "cell_type": "code",
   "execution_count": 7,
   "id": "3934ec25-b28d-4370-8117-6d2f635b4472",
   "metadata": {},
   "outputs": [],
   "source": [
    "# create dataset tree\n",
    "if (os.path.exists(EED_PATH)) :\n",
    "    shutil.rmtree(EED_PATH)\n",
    "\n",
    "def check_or_creat(dir):\n",
    "    if (not os.path.exists(dir)) :\n",
    "        os.makedirs(dir)\n",
    "\n",
    "check_or_creat(EED_PATH)\n",
    "check_or_creat(DIR_HEALTHY)\n",
    "check_or_creat(DIR_LEAF_RUST)\n",
    "check_or_creat(DIR_STEM_RUST)\n",
    "check_or_creat(DIR_SMUT)"
   ]
  },
  {
   "cell_type": "code",
   "execution_count": 8,
   "id": "619e4044-e499-4207-959b-1fc5acc1012d",
   "metadata": {},
   "outputs": [
    {
     "name": "stdout",
     "output_type": "stream",
     "text": [
      "['OLYAD_GETCH', 'LWDCD', 'LG_git', 'CGIAR']\n"
     ]
    }
   ],
   "source": [
    "# all avaialabel db\n",
    "dbs = os.listdir(DB_PATH)\n",
    "dbs = [x for x in dbs if x[0] not in ['_', '.']]\n",
    "print(dbs)"
   ]
  },
  {
   "cell_type": "code",
   "execution_count": 9,
   "id": "1b289b59-8642-4999-af88-319179bad52b",
   "metadata": {},
   "outputs": [
    {
     "name": "stdout",
     "output_type": "stream",
     "text": [
      "Images to be processed : 102\n",
      "Processing : 102 healthy\n",
      "Images to be processed : 1280\n",
      "Processing : 1382 healthy\n",
      "Images to be processed : 1010\n"
     ]
    },
    {
     "name": "stderr",
     "output_type": "stream",
     "text": [
      "libpng warning: iCCP: known incorrect sRGB profile\n"
     ]
    },
    {
     "name": "stdout",
     "output_type": "stream",
     "text": [
      "OpenCV(4.7.0) /Users/opencv-cn/GHA-OCV-1/_work/opencv-python/opencv-python/opencv/modules/imgcodecs/src/loadsave.cpp:783: error: (-215:Assertion failed) !_img.empty() in function 'imwrite'\n",
      "\n"
     ]
    },
    {
     "name": "stderr",
     "output_type": "stream",
     "text": [
      "libpng warning: iCCP: known incorrect sRGB profile\n",
      "libpng warning: iCCP: known incorrect sRGB profile\n"
     ]
    },
    {
     "name": "stdout",
     "output_type": "stream",
     "text": [
      "OpenCV(4.7.0) /Users/opencv-cn/GHA-OCV-1/_work/opencv-python/opencv-python/opencv/modules/imgcodecs/src/loadsave.cpp:783: error: (-215:Assertion failed) !_img.empty() in function 'imwrite'\n",
      "\n"
     ]
    },
    {
     "name": "stderr",
     "output_type": "stream",
     "text": [
      "libpng warning: iCCP: known incorrect sRGB profile\n",
      "libpng warning: iCCP: profile 'ICC Profile': 0h: PCS illuminant is not D50\n",
      "libpng warning: iCCP: known incorrect sRGB profile\n",
      "libpng warning: iCCP: profile 'ICC Profile': 0h: PCS illuminant is not D50\n",
      "libpng warning: iCCP: known incorrect sRGB profile\n"
     ]
    },
    {
     "name": "stdout",
     "output_type": "stream",
     "text": [
      "Processing : 1008 leaf_rust\n",
      "Images to be processed : 939\n",
      "OpenCV(4.7.0) /Users/opencv-cn/GHA-OCV-1/_work/opencv-python/opencv-python/opencv/modules/imgcodecs/src/loadsave.cpp:783: error: (-215:Assertion failed) !_img.empty() in function 'imwrite'\n",
      "\n",
      "OpenCV(4.7.0) /Users/opencv-cn/GHA-OCV-1/_work/opencv-python/opencv-python/opencv/modules/imgcodecs/src/loadsave.cpp:783: error: (-215:Assertion failed) !_img.empty() in function 'imwrite'\n",
      "\n",
      "OpenCV(4.7.0) /Users/opencv-cn/GHA-OCV-1/_work/opencv-python/opencv-python/opencv/modules/imgcodecs/src/loadsave.cpp:783: error: (-215:Assertion failed) !_img.empty() in function 'imwrite'\n",
      "\n",
      "OpenCV(4.7.0) /Users/opencv-cn/GHA-OCV-1/_work/opencv-python/opencv-python/opencv/modules/imgcodecs/src/loadsave.cpp:783: error: (-215:Assertion failed) !_img.empty() in function 'imwrite'\n",
      "\n",
      "OpenCV(4.7.0) /Users/opencv-cn/GHA-OCV-1/_work/opencv-python/opencv-python/opencv/modules/imgcodecs/src/loadsave.cpp:783: error: (-215:Assertion failed) !_img.empty() in function 'imwrite'\n",
      "\n",
      "OpenCV(4.7.0) /Users/opencv-cn/GHA-OCV-1/_work/opencv-python/opencv-python/opencv/modules/imgcodecs/src/loadsave.cpp:783: error: (-215:Assertion failed) !_img.empty() in function 'imwrite'\n",
      "\n",
      "OpenCV(4.7.0) /Users/opencv-cn/GHA-OCV-1/_work/opencv-python/opencv-python/opencv/modules/imgcodecs/src/loadsave.cpp:783: error: (-215:Assertion failed) !_img.empty() in function 'imwrite'\n",
      "\n",
      "OpenCV(4.7.0) /Users/opencv-cn/GHA-OCV-1/_work/opencv-python/opencv-python/opencv/modules/imgcodecs/src/loadsave.cpp:783: error: (-215:Assertion failed) !_img.empty() in function 'imwrite'\n",
      "\n",
      "OpenCV(4.7.0) /Users/opencv-cn/GHA-OCV-1/_work/opencv-python/opencv-python/opencv/modules/imgcodecs/src/loadsave.cpp:783: error: (-215:Assertion failed) !_img.empty() in function 'imwrite'\n",
      "\n",
      "Processing : 930 smut\n",
      "Images to be processed : 297\n",
      "Processing : 1679 healthy\n",
      "Images to be processed : 409\n"
     ]
    },
    {
     "name": "stderr",
     "output_type": "stream",
     "text": [
      "libpng warning: iCCP: known incorrect sRGB profile\n",
      "libpng warning: iCCP: profile 'ICC Profile': 0h: PCS illuminant is not D50\n"
     ]
    },
    {
     "name": "stdout",
     "output_type": "stream",
     "text": [
      "OpenCV(4.7.0) /Users/opencv-cn/GHA-OCV-1/_work/opencv-python/opencv-python/opencv/modules/imgcodecs/src/loadsave.cpp:783: error: (-215:Assertion failed) !_img.empty() in function 'imwrite'\n",
      "\n"
     ]
    },
    {
     "name": "stderr",
     "output_type": "stream",
     "text": [
      "libpng warning: iCCP: known incorrect sRGB profile\n",
      "libpng warning: iCCP: known incorrect sRGB profile\n",
      "libpng warning: iCCP: profile 'ICC Profile': 0h: PCS illuminant is not D50\n"
     ]
    },
    {
     "name": "stdout",
     "output_type": "stream",
     "text": [
      "Processing : 1416 leaf_rust\n",
      "Images to be processed : 142\n",
      "Processing : 1821 healthy\n",
      "Images to be processed : 358\n"
     ]
    },
    {
     "name": "stderr",
     "output_type": "stream",
     "text": [
      "libpng warning: iCCP: known incorrect sRGB profile\n"
     ]
    },
    {
     "name": "stdout",
     "output_type": "stream",
     "text": [
      "OpenCV(4.7.0) /Users/opencv-cn/GHA-OCV-1/_work/opencv-python/opencv-python/opencv/modules/imgcodecs/src/loadsave.cpp:783: error: (-215:Assertion failed) !_img.empty() in function 'imwrite'\n",
      "\n"
     ]
    },
    {
     "name": "stderr",
     "output_type": "stream",
     "text": [
      "libpng warning: iCCP: known incorrect sRGB profile\n"
     ]
    },
    {
     "name": "stdout",
     "output_type": "stream",
     "text": [
      "Processing : 1773 leaf_rust\n",
      "Images to be processed : 376\n",
      "Processing : 376 stem_rust\n"
     ]
    }
   ],
   "source": [
    "# image label\n",
    "def img_label(stat, count):\n",
    "    file_name = IMG_LABEL[stat] + '_' + str(count) + '.jpg'\n",
    "    return os.path.join(EED_PATH, stat, file_name)\n",
    "\n",
    "# convert all images into jpg and label_them\n",
    "def process_images(stat, db_dir):\n",
    "    # getting the prev count\n",
    "    file = os.listdir(os.path.join(EED_PATH, stat))\n",
    "    files = [x for x in file if x[0] not in ['.']]\n",
    "    prev_count = len(files)\n",
    "    \n",
    "    images = os.listdir(db_dir)\n",
    "    images = [x for x in images if x[0] != '.']\n",
    "    print(\"Images to be processed :\", len(images))\n",
    "    count = prev_count\n",
    "    for img in images:\n",
    "        # if img[-4:] == '.jpg':\n",
    "        #     continue\n",
    "        try:\n",
    "            try:\n",
    "                mat_img = cv.imread(os.path.join(db_dir, img), cv.IMREAD_UNCHANGED)\n",
    "            except:\n",
    "                mat_img = io.imread(os.path.join(db_dir, img))\n",
    "                mat_img = cv.cvtColor(mat_img, cv2.COLOR_RGBA2BGRA)\n",
    "            cv.imwrite(img_label(stat, count), mat_img)\n",
    "            count += 1\n",
    "        except Exception as e:\n",
    "            print(e)\n",
    "    return count\n",
    "\n",
    "\n",
    "# processing the dataset\n",
    "for db in dbs:\n",
    "#db = dbs[1]\n",
    "    if (db == 'CGIAR') :\n",
    "        db = os.path.join(db, 'train', 'train')\n",
    "    db_dir = os.listdir(os.path.join(DB_PATH, db))\n",
    "    \n",
    "    stat = \"\"\n",
    "    \n",
    "    for x in db_dir:\n",
    "        if C_HEALTHY in x.lower():\n",
    "            stat = C_HEALTHY\n",
    "        elif C_LEAF_RUST.replace(\"_\",\" \") in x.lower():\n",
    "            stat = C_LEAF_RUST\n",
    "        elif C_STEM_RUST.replace(\"_\",\" \") in x.lower():\n",
    "            stat = C_STEM_RUST\n",
    "        elif C_SMUT in x.lower():\n",
    "            stat = C_SMUT\n",
    "        else :\n",
    "            continue\n",
    "        processed = process_images(stat, os.path.join(DB_PATH, db, x))\n",
    "        print(\"Processing :\", processed, stat)"
   ]
  },
  {
   "cell_type": "code",
   "execution_count": 10,
   "id": "7a563b5e-3137-4ca5-b68a-24c83950bd35",
   "metadata": {},
   "outputs": [
    {
     "name": "stdout",
     "output_type": "stream",
     "text": [
      "1821  -  healthy\n",
      "1773  -  leaf_rust\n",
      "376  -  stem_rust\n",
      "930  -  smut\n",
      "Total images :  4900\n",
      "Healthy  img :  1821\n",
      "Diseased img :  3079\n"
     ]
    }
   ],
   "source": [
    "#total img count\n",
    "t_count = 0\n",
    "h_count = 0\n",
    "for k,v in IMG_LABEL.items():\n",
    "    path = os.path.join(EED_PATH, k)\n",
    "    files = os.listdir(path)\n",
    "    print(len(files), \" - \", k)\n",
    "    t_count += len(files)\n",
    "    if (k == C_HEALTHY) :\n",
    "        h_count = len(files)\n",
    "print(\"Total images : \", t_count)\n",
    "print(\"Healthy  img : \", h_count)\n",
    "print(\"Diseased img : \", t_count - h_count)"
   ]
  },
  {
   "cell_type": "code",
   "execution_count": null,
   "id": "5ba5e26a-fdc7-46ff-b3fe-c77db3331f8b",
   "metadata": {},
   "outputs": [],
   "source": []
  },
  {
   "cell_type": "code",
   "execution_count": null,
   "id": "0a7429e9-f6aa-45ed-bd50-91eb94571dd1",
   "metadata": {},
   "outputs": [],
   "source": []
  }
 ],
 "metadata": {
  "kernelspec": {
   "display_name": "Python 3 (ipykernel)",
   "language": "python",
   "name": "python3"
  },
  "language_info": {
   "codemirror_mode": {
    "name": "ipython",
    "version": 3
   },
   "file_extension": ".py",
   "mimetype": "text/x-python",
   "name": "python",
   "nbconvert_exporter": "python",
   "pygments_lexer": "ipython3",
   "version": "3.10.6"
  }
 },
 "nbformat": 4,
 "nbformat_minor": 5
}
