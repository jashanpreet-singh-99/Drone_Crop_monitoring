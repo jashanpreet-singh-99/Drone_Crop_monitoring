{
 "cells": [
  {
   "cell_type": "code",
   "execution_count": 3,
   "id": "20673a2e-3bad-4344-9cbf-62fe3022af79",
   "metadata": {},
   "outputs": [],
   "source": [
    "import os\n",
    "import cv2 as cv\n",
    "import common as c\n",
    "import pandas as pd"
   ]
  },
  {
   "cell_type": "code",
   "execution_count": 49,
   "id": "aaa982f4-9426-409d-91b3-b1f9691e4254",
   "metadata": {},
   "outputs": [],
   "source": [
    "def dhash(img, size=8):\n",
    "    row_hash = 0\n",
    "    col_hash = 0\n",
    "    for y in range(size):\n",
    "        for x in range(size):\n",
    "            row_bit = img[y,x] < img[y,x + 1] \n",
    "            row_hash = row_hash << 1 | row_bit\n",
    "            \n",
    "            col_bit = img[y,x] < img[y + 1,x]\n",
    "            col_hash = col_hash << 1 | col_bit\n",
    "    return format_hex(row_hash, col_hash, size)\n",
    "\n",
    "# Reference Dhash\n",
    "# https://github.com/benhoyt/dhash\n",
    "# https://benhoyt.com/writings/duplicate-image-detection/\n",
    "#\n",
    "def format_hex(row_hash, col_hash, size=8):\n",
    "    \"\"\"Format dhash integers as hex string of size*size//2 total hex digits\n",
    "    (row_hash and col_hash concatenated).\n",
    "    >>> format_hex(19409, 14959, size=4)\n",
    "    '4bd13a6f'\n",
    "    >>> format_hex(1, 2, size=4)\n",
    "    '00010002'\n",
    "    \"\"\"\n",
    "    hex_length = size * size // 4\n",
    "    return '{0:0{2}x}{1:0{2}x}'.format(row_hash, col_hash, hex_length)\n"
   ]
  },
  {
   "cell_type": "code",
   "execution_count": 54,
   "id": "44a2d57d-6a34-42b2-b72e-df85e365d753",
   "metadata": {},
   "outputs": [
    {
     "name": "stdout",
     "output_type": "stream",
     "text": [
      "-33323b3606766dad00000000c0098876 5cd4d591191832b2-5071b28fec6cc82\n"
     ]
    }
   ],
   "source": [
    "def hash_img(batch_no, batch_list):\n",
    "    hash_list = []\n",
    "    for i,img_path in batch_list:\n",
    "        mat_img = cv.imread(img_path, cv.IMREAD_GRAYSCALE)\n",
    "        img = cv.resize(mat_img, (9, 9), interpolation = cv.INTER_AREA)\n",
    "        h_1 = dhash(img)\n",
    "        hash_lsit.append(h_1)\n",
    "    df = pd.DataFrame({\"img\":batch_list, \"hash\": hash_list})\n",
    "    df.to_csv(os.path.join(c.HASH_PATH), 'b_' + str(batch_no) + \"_hash.csv\")"
   ]
  },
  {
   "cell_type": "code",
   "execution_count": null,
   "id": "137754f5-f071-4019-bd01-ac060d93b28f",
   "metadata": {},
   "outputs": [],
   "source": [
    "print(\"Total :\", len(img_list))\n",
    "\n",
    "process_list = []\n",
    "p_count = multiprocessing.cpu_count()\n",
    "\n",
    "element = math.floor(len(img_list)/p_count)\n",
    "\n",
    "for p_c in range(p_count):\n",
    "    start = p_c * element\n",
    "    end = (p_c + 1) * element\n",
    "    if p_c == p_count - 1:\n",
    "        end += len(img_list) % p_count\n",
    "    print(\"D - \", p_c, \":\",start, end)\n",
    "    p = multiprocessing.Process(target=hash_img, args=(p_c, img_list[start:end], ))\n",
    "    p.start()\n",
    "    process_list.append(p)\n",
    "\n",
    "for p in process_list:\n",
    "    p.join()\n",
    "\n",
    "print(\"Completed.\");"
   ]
  },
  {
   "cell_type": "markdown",
   "id": "b2a22821-2866-48bb-b33e-159644f47862",
   "metadata": {},
   "source": [
    "# Join into Master Hash"
   ]
  },
  {
   "cell_type": "code",
   "execution_count": 9,
   "id": "15addd67-30b9-4b8a-876a-7ffd381ac1ef",
   "metadata": {},
   "outputs": [],
   "source": [
    "dbs = os.listdir(c.HASH_PATH)\n",
    "dfs = [pd.read_csv(os.path.join(c.HASH_PATH,x), index_col=0) for x in dbs if x[0] != 'M']\n",
    "master_df = pd.concat(dfs, ignore_index=True)"
   ]
  },
  {
   "cell_type": "code",
   "execution_count": 10,
   "id": "ecf08d03-e961-44ab-a336-c8be84e8f82f",
   "metadata": {},
   "outputs": [],
   "source": [
    "master_df.to_csv(c.HASH_DB)\n",
    "dbs = [os.remove(os.path.join(c.HASH_PATH,x)) for x in dbs]"
   ]
  },
  {
   "cell_type": "markdown",
   "id": "a5277321-2d34-4867-a414-eb15cb359a4f",
   "metadata": {},
   "source": [
    "# Check Duplicates"
   ]
  },
  {
   "cell_type": "code",
   "execution_count": 11,
   "id": "b7556821-13fe-4a6b-98ff-b7c9250adafa",
   "metadata": {},
   "outputs": [
    {
     "data": {
      "text/plain": [
       "<bound method IndexOpsMixin.value_counts of 0        -6543c2adc8e4bce31eb079c304a04611\n",
       "1        -53182c286aad2c8b116802c3bc101ec1\n",
       "2         3eaa2a266aeb26367596c825780bc3c0\n",
       "3        3556d3c676b8c854-168f1fe1b9de77a4\n",
       "4        -104c6d6d4d6b6b6b080001022668841d\n",
       "                       ...                \n",
       "4895      6d55a88839bb2e682e5460880013bf28\n",
       "4896      5ae869e9ede4e4ca1e16737ba9000580\n",
       "4897      572a3a6aba3665ac556d344a8812450c\n",
       "4898     -25a5a12898dad2dd100358104604b9ff\n",
       "4899    -62c3c1e1c3436264-70a603e8099ffb01\n",
       "Name: hash, Length: 4900, dtype: object>"
      ]
     },
     "execution_count": 11,
     "metadata": {},
     "output_type": "execute_result"
    }
   ],
   "source": [
    "master_df['hash'].value_counts"
   ]
  },
  {
   "cell_type": "code",
   "execution_count": 13,
   "id": "32dd77ff-2ffc-49e5-a8cc-b585bd5db64e",
   "metadata": {},
   "outputs": [
    {
     "data": {
      "text/plain": [
       "<bound method IndexOpsMixin.value_counts of 0    1\n",
       "1    2\n",
       "2    3\n",
       "3    4\n",
       "4    1\n",
       "Name: c, dtype: int64>"
      ]
     },
     "execution_count": 13,
     "metadata": {},
     "output_type": "execute_result"
    }
   ],
   "source": [
    "dff = pd.DataFrame({'c': [1, 2,3,4,1]})\n",
    "dff['c'].value_counts"
   ]
  },
  {
   "cell_type": "code",
   "execution_count": null,
   "id": "7a157091-1b62-4d32-a57f-5643b9d11119",
   "metadata": {},
   "outputs": [],
   "source": []
  }
 ],
 "metadata": {
  "kernelspec": {
   "display_name": "Python 3 (ipykernel)",
   "language": "python",
   "name": "python3"
  },
  "language_info": {
   "codemirror_mode": {
    "name": "ipython",
    "version": 3
   },
   "file_extension": ".py",
   "mimetype": "text/x-python",
   "name": "python",
   "nbconvert_exporter": "python",
   "pygments_lexer": "ipython3",
   "version": "3.10.6"
  }
 },
 "nbformat": 4,
 "nbformat_minor": 5
}
